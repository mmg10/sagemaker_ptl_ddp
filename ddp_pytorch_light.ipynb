{
 "cells": [
  {
   "cell_type": "markdown",
   "metadata": {},
   "source": [
    "# Data Distributed Parallel Mode Training"
   ]
  },
  {
   "cell_type": "markdown",
   "metadata": {},
   "source": [
    "## Setup"
   ]
  },
  {
   "cell_type": "code",
   "execution_count": null,
   "metadata": {},
   "outputs": [],
   "source": [
    "\n",
    "import boto3\n",
    "import sagemaker\n",
    "\n",
    "role = 'sagemaker-role'\n",
    "role_arn = 'arn:aws:iam::************:role/sagemaker-role'\n",
    "sagemaker_session = sagemaker.Session()\n",
    "s3_bucket_name = sagemaker_session.default_bucket()"
   ]
  },
  {
   "cell_type": "code",
   "execution_count": null,
   "metadata": {},
   "outputs": [],
   "source": [
    "# prefix for our training\n",
    "from datetime import datetime\n",
    "now = datetime.now()\n",
    "d = now.strftime(\"%d-%m-%Y-%H-%M-%S\")\n",
    "job_name = f'sagemaker-{d}'\n",
    "job_name"
   ]
  },
  {
   "cell_type": "markdown",
   "metadata": {},
   "source": [
    "## Training Loop"
   ]
  },
  {
   "cell_type": "code",
   "execution_count": null,
   "metadata": {},
   "outputs": [],
   "source": [
    "# for distributed training\n",
    "distribution = { \n",
    "    \"pytorchddp\": {\n",
    "        \"enabled\": True,\n",
    "        \"custom_mpi_options\": \"-verbose -x NCCL_DEBUG=VERSION\"\n",
    "    }\n",
    "}"
   ]
  },
  {
   "cell_type": "code",
   "execution_count": null,
   "metadata": {},
   "outputs": [],
   "source": [
    "# instance details\n",
    "instance_type = \"ml.g4dn.12xlarge\"\n",
    "instance_count = 2"
   ]
  },
  {
   "cell_type": "code",
   "execution_count": null,
   "metadata": {},
   "outputs": [],
   "source": [
    "hyperparameters={\n",
    "            \"batch-size\":64,\n",
    "            \"max-epochs\":2,\n",
    "            }"
   ]
  },
  {
   "cell_type": "code",
   "execution_count": null,
   "metadata": {},
   "outputs": [],
   "source": [
    "from sagemaker.pytorch import PyTorch\n",
    "\n",
    "\n",
    "ddp_estimator = PyTorch(\n",
    "        entry_point=\"b_train_ddp.py\", \n",
    "        source_dir='b_code',\n",
    "        role=role,\n",
    "        instance_type=instance_type,\n",
    "        sagemaker_session=sagemaker_session,\n",
    "        framework_version='1.12.0',\n",
    "        py_version='py38',\n",
    "        instance_count=instance_count,\n",
    "        hyperparameters=hyperparameters,\n",
    "        disable_profiler=True, # for distributed training\n",
    "        debugger_hook_config=False, # for distributed training\n",
    "        distribution=distribution,\n",
    "        job_name=job_name,\n",
    "        )"
   ]
  },
  {
   "cell_type": "code",
   "execution_count": null,
   "metadata": {},
   "outputs": [],
   "source": [
    "ddp_estimator.fit(job_name=job_name, logs=True)"
   ]
  },
  {
   "cell_type": "code",
   "execution_count": null,
   "metadata": {},
   "outputs": [],
   "source": [
    "ddp_estimator.latest_training_job.describe()"
   ]
  }
 ],
 "metadata": {
  "kernelspec": {
   "display_name": "Python 3.8.12 ('sage')",
   "language": "python",
   "name": "python3"
  },
  "language_info": {
   "codemirror_mode": {
    "name": "ipython",
    "version": 3
   },
   "file_extension": ".py",
   "mimetype": "text/x-python",
   "name": "python",
   "nbconvert_exporter": "python",
   "pygments_lexer": "ipython3",
   "version": "3.8.12"
  },
  "orig_nbformat": 4,
  "vscode": {
   "interpreter": {
    "hash": "56c8b11829b62d4480edeffa99568baa66a55d66fcd3834ab08236f574c2c3e6"
   }
  }
 },
 "nbformat": 4,
 "nbformat_minor": 2
}
